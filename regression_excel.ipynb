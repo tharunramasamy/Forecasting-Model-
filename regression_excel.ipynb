{
 "cells": [
  {
   "cell_type": "code",
   "execution_count": 1,
   "id": "a27b0b60",
   "metadata": {},
   "outputs": [],
   "source": [
    "import pandas as pd \n",
    "import numpy as np\n",
    "import matplotlib.pyplot as plt\n"
   ]
  },
  {
   "cell_type": "code",
   "execution_count": 2,
   "id": "fd9d6df2",
   "metadata": {},
   "outputs": [],
   "source": [
    "df = pd.read_excel(r\"C:/Users/THARUNBALAAJE/Downloads/Datasets/Predictive Analysis.xlsx\")"
   ]
  },
  {
   "cell_type": "code",
   "execution_count": 3,
   "id": "65873f25",
   "metadata": {},
   "outputs": [
    {
     "name": "stdout",
     "output_type": "stream",
     "text": [
      "   Emp_ID Emp_Name  Experience (Years)  Salary (in ₹)  Performance_Score  \\\n",
      "0       1    Rahul                   1         300000                 55   \n",
      "1       2    Sneha                   3         450000                 60   \n",
      "2       3    Arjun                   5         600000                 80   \n",
      "3       4    Divya                   7         720000                 85   \n",
      "4       5   Vikram                   9         850000                 90   \n",
      "\n",
      "  Promotion_Eligible  \n",
      "0                 No  \n",
      "1                 No  \n",
      "2                Yes  \n",
      "3                Yes  \n",
      "4                Yes  \n"
     ]
    }
   ],
   "source": [
    "print(df.head(5))"
   ]
  },
  {
   "cell_type": "code",
   "execution_count": 4,
   "id": "9f77fa4a",
   "metadata": {},
   "outputs": [],
   "source": [
    "from sklearn.linear_model import LinearRegression\n"
   ]
  },
  {
   "cell_type": "code",
   "execution_count": null,
   "id": "99f388fa",
   "metadata": {},
   "outputs": [
    {
     "name": "stdout",
     "output_type": "stream",
     "text": [
      "   Experience (Years)\n",
      "0                   1\n",
      "1                   3\n",
      "2                   5\n",
      "3                   7\n",
      "4                   9\n",
      "5                   2\n",
      "6                   4\n",
      "7                   6\n",
      "8                   8\n",
      "9                  10\n",
      "0    300000\n",
      "1    450000\n",
      "2    600000\n",
      "3    720000\n",
      "4    850000\n",
      "5    380000\n",
      "6    520000\n",
      "7    680000\n",
      "8    800000\n",
      "9    950000\n",
      "Name: Salary (in ₹), dtype: int64\n"
     ]
    }
   ],
   "source": [
    "x = df[['Experience (Years)']]   \n",
    "y = df['Salary (in ₹)']\n",
    "print(x)\n",
    "print(y)"
   ]
  },
  {
   "cell_type": "code",
   "execution_count": 12,
   "id": "aacd67d7",
   "metadata": {},
   "outputs": [
    {
     "name": "stdout",
     "output_type": "stream",
     "text": [
      "[309454.54545455 449696.96969697 589939.39393939 730181.81818182\n",
      " 870424.24242424 379575.75757576 519818.18181818 660060.60606061\n",
      " 800303.03030303 940545.45454545]\n"
     ]
    },
    {
     "data": {
      "text/plain": [
       "<matplotlib.collections.PathCollection at 0x238864806e0>"
      ]
     },
     "execution_count": 12,
     "metadata": {},
     "output_type": "execute_result"
    },
    {
     "data": {
      "image/png": "[encoded data removed]",
      "text/plain": [
       "<Figure size 640x480 with 1 Axes>"
      ]
     },
     "metadata": {},
     "output_type": "display_data"
    }
   ],
   "source": [
    "model = LinearRegression()\n",
    "model.fit(x, y)\n",
    "\n",
    "predicted_salary = model.predict(x)\n",
    "print(predicted_salary)\n",
    "plt.scatter(x, y, color='blue')"
   ]
  },
  {
   "cell_type": "code",
   "execution_count": 16,
   "id": "7f46d084",
   "metadata": {},
   "outputs": [
    {
     "name": "stdout",
     "output_type": "stream",
     "text": [
      "Correlation 0.998525657806943\n"
     ]
    }
   ],
   "source": [
    "correlation = np.corrcoef(x.values.ravel(), y)[0, 1]\n",
    "print(\"Correlation\", correlation)"
   ]
  },
  {
   "cell_type": "code",
   "execution_count": 17,
   "id": "9a519606",
   "metadata": {},
   "outputs": [
    {
     "name": "stdout",
     "output_type": "stream",
     "text": [
      "Predicted salary for 5 years of experience and score 80: ₹589939.39\n"
     ]
    },
    {
     "name": "stderr",
     "output_type": "stream",
     "text": [
      "c:\\Program Files\\Python313\\Lib\\site-packages\\sklearn\\utils\\validation.py:2739: UserWarning: X does not have valid feature names, but LinearRegression was fitted with feature names\n",
      "  warnings.warn(\n"
     ]
    }
   ],
   "source": [
    "experience = 5\n",
    "score = 80\n",
    "\n",
    "# Predict salary using the trained model for 5 years of experience\n",
    "predicted_salary_5yrs = model.predict(np.array([[experience]]))[0]\n",
    "print(f\"Predicted salary for 5 years of experience and score 80: ₹{predicted_salary_5yrs:.2f}\")"
   ]
  },
  {
   "cell_type": "code",
   "execution_count": 22,
   "id": "45a345cb",
   "metadata": {},
   "outputs": [
    {
     "name": "stdout",
     "output_type": "stream",
     "text": [
      "Predicted Salary: 801072.4249525724\n"
     ]
    },
    {
     "name": "stderr",
     "output_type": "stream",
     "text": [
      "c:\\Program Files\\Python313\\Lib\\site-packages\\sklearn\\utils\\validation.py:2739: UserWarning: X does not have valid feature names, but LinearRegression was fitted with feature names\n",
      "  warnings.warn(\n"
     ]
    }
   ],
   "source": [
    "# Prepare X and y\n",
    "X = df[['Experience (Years)', 'Performance_Score']]   # Two features\n",
    "y = df['Salary (in ₹)']                  # Target variable\n",
    "\n",
    "# Train the model\n",
    "model = LinearRegression()\n",
    "model.fit(X, y)\n",
    "\n",
    "# Predict salary for 5 years experience and score 80\n",
    "new_data = np.array([[8, 88]])\n",
    "predicted_salary = model.predict(new_data)\n",
    "\n",
    "print(\"Predicted Salary:\", predicted_salary[0])"
   ]
  },
  {
   "cell_type": "code",
   "execution_count": 23,
   "id": "1f015184",
   "metadata": {},
   "outputs": [
    {
     "name": "stdout",
     "output_type": "stream",
     "text": [
      "   Actual Salary  Predicted Salary\n",
      "0         300000     308704.385671\n",
      "1         450000     444695.904475\n",
      "2         600000     596556.187925\n",
      "3         720000     732547.706729\n",
      "4         850000     868539.225533\n",
      "5         380000     377229.103895\n",
      "6         520000     520626.046200\n",
      "7         680000     664022.988506\n",
      "8         800000     801072.424953\n",
      "9         950000     936006.026113\n"
     ]
    }
   ],
   "source": [
    "# Compare predicted salary with actual salary for the multi-feature model\n",
    "comparison_df = pd.DataFrame({\n",
    "    'Actual Salary': y,\n",
    "    'Predicted Salary': model.predict(X)\n",
    "})\n",
    "print(comparison_df)"
   ]
  },
  {
   "cell_type": "code",
   "execution_count": 24,
   "id": "db6a009e",
   "metadata": {},
   "outputs": [
    {
     "name": "stdout",
     "output_type": "stream",
     "text": [
      "Model R^2 score: 0.9974\n"
     ]
    }
   ],
   "source": [
    "# Calculate R^2 score (coefficient of determination) for the model\n",
    "r2_score = model.score(X, y)\n",
    "print(f\"Model R^2 score: {r2_score:.4f}\")"
   ]
  },
  {
   "cell_type": "code",
   "execution_count": 25,
   "id": "d933a396",
   "metadata": {},
   "outputs": [
    {
     "name": "stdout",
     "output_type": "stream",
     "text": [
      "Model coefficients: [65350.96529405  1057.91764312]\n",
      "Model intercept: 185167.95000557922\n"
     ]
    }
   ],
   "source": [
    "print(\"Model coefficients:\", model.coef_)\n",
    "print(\"Model intercept:\", model.intercept_)"
   ]
  },
  {
   "cell_type": "code",
   "execution_count": 26,
   "id": "6036862b",
   "metadata": {},
   "outputs": [
    {
     "data": {
      "image/png": "[encoded data removed]",
      "text/plain": [
       "<Figure size 800x500 with 1 Axes>"
      ]
     },
     "metadata": {},
     "output_type": "display_data"
    }
   ],
   "source": [
    "plt.figure(figsize=(8, 5))\n",
    "plt.scatter(comparison_df['Actual Salary'], comparison_df['Predicted Salary'], color='blue', label='Predicted vs Actual')\n",
    "plt.plot([comparison_df['Actual Salary'].min(), comparison_df['Actual Salary'].max()],\n",
    "         [comparison_df['Actual Salary'].min(), comparison_df['Actual Salary'].max()],\n",
    "         color='red', linestyle='--', label='Ideal Fit')\n",
    "plt.xlabel('Actual Salary')\n",
    "plt.ylabel('Predicted Salary')\n",
    "plt.title('Actual vs Predicted Salary')\n",
    "plt.legend()\n",
    "plt.show()"
   ]
  },
  {
   "cell_type": "code",
   "execution_count": 27,
   "id": "71fb716c",
   "metadata": {},
   "outputs": [
    {
     "name": "stdout",
     "output_type": "stream",
     "text": [
      "Predicted salary for worst performer with 9 years of experience (score 55): ₹831512.11\n"
     ]
    },
    {
     "name": "stderr",
     "output_type": "stream",
     "text": [
      "c:\\Program Files\\Python313\\Lib\\site-packages\\sklearn\\utils\\validation.py:2739: UserWarning: X does not have valid feature names, but LinearRegression was fitted with feature names\n",
      "  warnings.warn(\n"
     ]
    }
   ],
   "source": [
    "# Predict salary for the worst performer (lowest Performance_Score) with 9 years of experience\n",
    "min_score = X['Performance_Score'].min()\n",
    "input_data = np.array([[9, min_score]])\n",
    "predicted_worst_salary = model.predict(input_data)[0]\n",
    "print(f\"Predicted salary for worst performer with 9 years of experience (score {min_score}): ₹{predicted_worst_salary:.2f}\")"
   ]
  },
  {
   "cell_type": "code",
   "execution_count": 28,
   "id": "4f993d05",
   "metadata": {},
   "outputs": [
    {
     "name": "stdout",
     "output_type": "stream",
     "text": [
      "Predicted salary for new intern (0.5 years experience, score 50): ₹270739.31\n"
     ]
    },
    {
     "name": "stderr",
     "output_type": "stream",
     "text": [
      "c:\\Program Files\\Python313\\Lib\\site-packages\\sklearn\\utils\\validation.py:2739: UserWarning: X does not have valid feature names, but LinearRegression was fitted with feature names\n",
      "  warnings.warn(\n"
     ]
    }
   ],
   "source": [
    "# Predict salary for a new intern with 0.5 years experience and score 50\n",
    "intern_data = np.array([[0.5, 50]])\n",
    "predicted_intern_salary = model.predict(intern_data)[0]\n",
    "print(f\"Predicted salary for new intern (0.5 years experience, score 50): ₹{predicted_intern_salary:.2f}\")"
   ]
  },
  {
   "cell_type": "code",
   "execution_count": 29,
   "id": "d12e6456",
   "metadata": {},
   "outputs": [
    {
     "name": "stdout",
     "output_type": "stream",
     "text": [
      "Salary will increase by ₹10579.18 for a 10-point increase in Performance_Score.\n"
     ]
    }
   ],
   "source": [
    "# Calculate the increase in salary for a 10-point increase in Performance_Score\n",
    "performance_coef = model.coef_[1]  # Coefficient for Performance_Score\n",
    "salary_increase = performance_coef * 10\n",
    "print(f\"Salary will increase by ₹{salary_increase:.2f} for a 10-point increase in Performance_Score.\")"
   ]
  },
  {
   "cell_type": "code",
   "execution_count": 30,
   "id": "687331f2",
   "metadata": {},
   "outputs": [
    {
     "name": "stdout",
     "output_type": "stream",
     "text": [
      "Salary will increase by ₹65350.97 for each additional year of experience.\n"
     ]
    }
   ],
   "source": [
    "# The impact of a one-year increase in experience on salary is given by the coefficient for 'Experience (Years)'\n",
    "experience_coef = model.coef_[0]  # Coefficient for 'Experience (Years)'\n",
    "print(f\"Salary will increase by ₹{experience_coef:.2f} for each additional year of experience.\")"
   ]
  }
 ],
 "metadata": {
  "kernelspec": {
   "display_name": "Python 3",
   "language": "python",
   "name": "python3"
  },
  "language_info": {
   "codemirror_mode": {
    "name": "ipython",
    "version": 3
   },
   "file_extension": ".py",
   "mimetype": "text/x-python",
   "name": "python",
   "nbconvert_exporter": "python",
   "pygments_lexer": "ipython3",
   "version": "3.13.3"
  }
 },
 "nbformat": 4,
 "nbformat_minor": 5
}
